{
 "cells": [
  {
   "cell_type": "code",
   "execution_count": 4,
   "metadata": {
    "collapsed": false
   },
   "outputs": [
    {
     "data": {
      "text/html": [
       "<link href='http://fonts.googleapis.com/css?family=Alegreya+Sans:100,300,400,500,700,800,900,100italic,300italic,400italic,500italic,700italic,800italic,900italic' rel='stylesheet' type='text/css'>\n",
       "<link href='http://fonts.googleapis.com/css?family=Arvo:400,700,400italic' rel='stylesheet' type='text/css'>\n",
       "<link href='http://fonts.googleapis.com/css?family=PT+Mono' rel='stylesheet' type='text/css'>\n",
       "<link href='http://fonts.googleapis.com/css?family=Shadows+Into+Light' rel='stylesheet' type='text/css'>\n",
       "<link href='http://fonts.googleapis.com/css?family=Philosopher:400,700,400italic,700italic' rel='stylesheet' type='text/css'>\n",
       "\n",
       "<style>\n",
       "\n",
       "@font-face {\n",
       "    font-family: \"Computer Modern\";\n",
       "    src: url('http://mirrors.ctan.org/fonts/cm-unicode/fonts/otf/cmunss.otf');\n",
       "}\n",
       "\n",
       "#notebook_panel { /* main background */\n",
       "    background: #ddd;\n",
       "    color: #000000;\n",
       "}\n",
       "\n",
       "\n",
       "\n",
       "/* Formatting for header cells */\n",
       ".text_cell_render h1 {\n",
       "    font-family: 'Philosopher', sans-serif;\n",
       "    font-weight: 400;\n",
       "    font-size: 2.2em;\n",
       "    line-height: 100%;\n",
       "    color: rgb(0, 80, 120);\n",
       "    margin-bottom: 0.1em;\n",
       "    margin-top: 0.1em;\n",
       "    display: block;\n",
       "}\t\n",
       ".text_cell_render h2 {\n",
       "    font-family: 'Philosopher', serif;\n",
       "    font-weight: 400;\n",
       "    font-size: 1.9em;\n",
       "    line-height: 100%;\n",
       "    color: rgb(200,100,0);\n",
       "    margin-bottom: 0.1em;\n",
       "    margin-top: 0.1em;\n",
       "    display: block;\n",
       "}\t\n",
       "\n",
       ".text_cell_render h3 {\n",
       "    font-family: 'Philosopher', serif;\n",
       "    margin-top:12px;\n",
       "    margin-bottom: 3px;\n",
       "    font-style: italic;\n",
       "    color: rgb(94,127,192);\n",
       "}\n",
       "\n",
       ".text_cell_render h4 {\n",
       "    font-family: 'Philosopher', serif;\n",
       "}\n",
       "\n",
       ".text_cell_render h5 {\n",
       "    font-family: 'Alegreya Sans', sans-serif;\n",
       "    font-weight: 300;\n",
       "    font-size: 16pt;\n",
       "    color: grey;\n",
       "    font-style: italic;\n",
       "    margin-bottom: .1em;\n",
       "    margin-top: 0.1em;\n",
       "    display: block;\n",
       "}\n",
       "\n",
       ".text_cell_render h6 {\n",
       "    font-family: 'PT Mono', sans-serif;\n",
       "    font-weight: 300;\n",
       "    font-size: 10pt;\n",
       "    color: grey;\n",
       "    margin-bottom: 1px;\n",
       "    margin-top: 1px;\n",
       "}\n",
       "\n",
       ".CodeMirror{\n",
       "        font-family: \"PT Mono\";\n",
       "        font-size: 100%;\n",
       "}\n",
       "\n",
       "</style>\n",
       "\n"
      ],
      "text/plain": [
       "HTML{ASCIIString}(\"<link href='http://fonts.googleapis.com/css?family=Alegreya+Sans:100,300,400,500,700,800,900,100italic,300italic,400italic,500italic,700italic,800italic,900italic' rel='stylesheet' type='text/css'>\\n<link href='http://fonts.googleapis.com/css?family=Arvo:400,700,400italic' rel='stylesheet' type='text/css'>\\n<link href='http://fonts.googleapis.com/css?family=PT+Mono' rel='stylesheet' type='text/css'>\\n<link href='http://fonts.googleapis.com/css?family=Shadows+Into+Light' rel='stylesheet' type='text/css'>\\n<link href='http://fonts.googleapis.com/css?family=Philosopher:400,700,400italic,700italic' rel='stylesheet' type='text/css'>\\n\\n<style>\\n\\n@font-face {\\n    font-family: \\\"Computer Modern\\\";\\n    src: url('http://mirrors.ctan.org/fonts/cm-unicode/fonts/otf/cmunss.otf');\\n}\\n\\n#notebook_panel { /* main background */\\n    background: #ddd;\\n    color: #000000;\\n}\\n\\n\\n\\n/* Formatting for header cells */\\n.text_cell_render h1 {\\n    font-family: 'Philosopher', sans-serif;\\n    font-weight: 400;\\n    font-size: 2.2em;\\n    line-height: 100%;\\n    color: rgb(0, 80, 120);\\n    margin-bottom: 0.1em;\\n    margin-top: 0.1em;\\n    display: block;\\n}\\t\\n.text_cell_render h2 {\\n    font-family: 'Philosopher', serif;\\n    font-weight: 400;\\n    font-size: 1.9em;\\n    line-height: 100%;\\n    color: rgb(200,100,0);\\n    margin-bottom: 0.1em;\\n    margin-top: 0.1em;\\n    display: block;\\n}\\t\\n\\n.text_cell_render h3 {\\n    font-family: 'Philosopher', serif;\\n    margin-top:12px;\\n    margin-bottom: 3px;\\n    font-style: italic;\\n    color: rgb(94,127,192);\\n}\\n\\n.text_cell_render h4 {\\n    font-family: 'Philosopher', serif;\\n}\\n\\n.text_cell_render h5 {\\n    font-family: 'Alegreya Sans', sans-serif;\\n    font-weight: 300;\\n    font-size: 16pt;\\n    color: grey;\\n    font-style: italic;\\n    margin-bottom: .1em;\\n    margin-top: 0.1em;\\n    display: block;\\n}\\n\\n.text_cell_render h6 {\\n    font-family: 'PT Mono', sans-serif;\\n    font-weight: 300;\\n    font-size: 10pt;\\n    color: grey;\\n    margin-bottom: 1px;\\n    margin-top: 1px;\\n}\\n\\n.CodeMirror{\\n        font-family: \\\"PT Mono\\\";\\n        font-size: 100%;\\n}\\n\\n</style>\\n\\n\")"
      ]
     },
     "execution_count": 4,
     "metadata": {},
     "output_type": "execute_result"
    }
   ],
   "source": [
    "# Setting up a custom stylesheet in IJulia\n",
    "file = open(\"style.css\") # A .css file in the same folder as this notebook file\n",
    "styl = readall(file) # Read the file\n",
    "HTML(\"$styl\") # Output as HTML"
   ]
  },
  {
   "cell_type": "markdown",
   "metadata": {},
   "source": [
    "# 시작하기 --- JuliaBox (웹사이트에서 제공하는 온라인 프로그래밍 환경)"
   ]
  },
  {
   "cell_type": "markdown",
   "metadata": {},
   "source": [
    "<h2>순서</h2>"
   ]
  },
  {
   "cell_type": "markdown",
   "metadata": {},
   "source": [
    "- [결과물](#결과물)\n",
    "- [JuliaBox 웹사이트](#JuliaBox-웹사이트)\n",
    "- [JuliaBox 노트북에서 이름짓기, 저장, 열기](#JuliaBox-노트북에서-이름짓기,-저장,-열기)\n",
    "- [몇가지 코멘트 추가](#몇가지-코멘트-추가)\n",
    "- [IJulia](#IJulia)"
   ]
  },
  {
   "cell_type": "markdown",
   "metadata": {},
   "source": [
    "<h2>결과물</h2>\n",
    "\n",
    "본 수업을 끝내면 다음과 같은 것들을 할 수 있다:\n",
    "\n",
    "- JuliaBox.com에 로그인\n",
    "- JuliaBox.com에서 새로운 노트북을 시작\n",
    "- JuliaBox.com 노트북 코JuliaBox.com 노트북 코드 셀에서 기본적인 계산하기\n",
    "- JuliaBox.com에서 노트북의 이름짓기, 저장, 이름 변경하기\n",
    "- JuliaBox.com에서 기존의 노트북을 열기\n",
    "- 자신의 개인 컴퓨터에 IJulia를 설치하고 대화형 노트북 작업하기 (선택사항)"
   ]
  },
  {
   "cell_type": "markdown",
   "metadata": {},
   "source": [
    "[최상단으로](#순서)"
   ]
  },
  {
   "cell_type": "markdown",
   "metadata": {},
   "source": [
    "<h2>JuliaBox 웹사이트</h2>\n",
    "\n",
    "GMail 계정이 아직 없다면, 새로 하나 만들자.  그리고 www.juliabox.com 웹사이트로 가서 GMail 계정으로 소셜 로그인을 한다.  아래와 같은 화면을 볼 수 있을 것이다:\n",
    "\n",
    "<img src=\"Week1_Lecture2_1-JuliaBox.png\" alt=\"(Screenshot of first JuliaBox page)\">\n",
    "\n",
    "\n",
    "\n",
    "New 버튼을 클릭하고(상단 우측 근방), 쥴리아 커널을 선택한다.  브라우저의 새 탭이 Untitled라는 이름으로 열리면, 다음과 같이 보일 것이다:\n",
    "\n",
    "<img src=\"Week1_Lecture2_2-Notebook.png\" alt=\"(Screenshot of empty JuliaBox notebook)\">\n",
    "\n",
    "\n",
    "빈 노트북이 보이는데, 입력을 기다리는 셀이 있다.  이것은 코드 셀이며, \n",
    "What you see is an empty notebook, with a cell ready to receive input. Note that it is a code cell, indicated by a message in the toolbar at the top of your browser page, and also by the \"In [ ]:\" to the left of the cell.\n",
    "\n",
    "You will need to ensure that cells with code in them are always code cells. Otherwise they will not do any programming tasks for you.\n",
    "\n",
    "Let's try it out! We'll enter some very elementary arithmetic expressions, and get the notebook to evaluate them by pressing Shift-Enter\n"
   ]
  },
  {
   "cell_type": "code",
   "execution_count": 5,
   "metadata": {
    "collapsed": false
   },
   "outputs": [
    {
     "data": {
      "text/plain": [
       "2"
      ]
     },
     "execution_count": 5,
     "metadata": {},
     "output_type": "execute_result"
    }
   ],
   "source": [
    "1+1"
   ]
  },
  {
   "cell_type": "code",
   "execution_count": 6,
   "metadata": {
    "collapsed": false
   },
   "outputs": [
    {
     "data": {
      "text/plain": [
       "-31"
      ]
     },
     "execution_count": 6,
     "metadata": {},
     "output_type": "execute_result"
    }
   ],
   "source": [
    "2003 * 2016\n",
    "45 - 76\n"
   ]
  },
  {
   "cell_type": "markdown",
   "metadata": {},
   "source": [
    "Note that the elementary arithmetic operators are  +  -   *   \\   ^ \n",
    "\n",
    "Parentheses should be used when there is any possibility of more than one interpretation."
   ]
  },
  {
   "cell_type": "markdown",
   "metadata": {},
   "source": [
    "[최상단으로](#순서)"
   ]
  },
  {
   "cell_type": "markdown",
   "metadata": {},
   "source": [
    "<h2>JuliaBox 노트북에서 이름짓기, 저장, 열기</h2>\n",
    "\n",
    "One often wants to save a notebook for future use. JuliaBox gives it the unhelpful name \"Untitled\", so the first step is to rename your current notebook.\n",
    "\n",
    "To do so, click on File (near the top left), a menu opens, click Rename... and type the name of your choice in the box that opens. Click OK or just hit Enter.\n",
    "\n",
    "Every once in a while you should save the notebook you are currently working on, and also just before closing the notebook and leaving. \n",
    "\n",
    "To save, click on File and in the menu click the Save and Checkpoint option.\n",
    "\n",
    "One should always leave gracefully, if you can. So when done with a notebook, click on File, click on Save and Checkpoint, and then click the Close and Halt option.\n",
    "\n",
    "At any time you wish to, you can open the notebook again. Just go the directory page, which is the very first one that JuliaBox opened for you. It will be there under you name you saved it as. Just click on it, and it opens in its own tab."
   ]
  },
  {
   "cell_type": "markdown",
   "metadata": {},
   "source": [
    "[최상단으로](#순서)"
   ]
  },
  {
   "cell_type": "markdown",
   "metadata": {},
   "source": [
    "<h2>몇가지 코멘트 추가</h2>\n",
    "\n",
    "### Julia is an interpreted language\n",
    "\n",
    "What you have just seen is a demonstration of how interpreted languages work: the moment they get a complete line of code, they execute it. Python and Matlab are also interpreted languages.\n",
    "\n",
    "This is the opposite of compiled languages like C and Fortran. There, the code has to be compiled before it is run."
   ]
  },
  {
   "cell_type": "markdown",
   "metadata": {},
   "source": [
    "### Julia as a command line interpreter\n",
    "\n",
    "Actually, the situation here in a notebook is a bit of a luxury: one can put several lines in cell and execute them all at once. From the command line, really one can only execute one line at a time****. In this, it is quite similar to Python and Matlab.\n",
    "\n",
    "****Terms and conditions apply: a single command line entry can look as if it contains several lines. And one can chain several (usually very short) commands on one line."
   ]
  },
  {
   "cell_type": "markdown",
   "metadata": {},
   "source": [
    "### Code files in Julia\n",
    "\n",
    "Although JuliaBox (equivalently IJulia) is a wonderful environment in which to explore the pleasures of coding in Julia, you should know that many Julia projects consists purely of files that contain lines of Julia code.\n",
    "\n",
    "This of course is how most computer programs are organised.\n",
    "\n",
    "In particular, Julia itself consists of a very basic core, written in C, the Base package, mostly written in Julia, and many extensions, some of them written in other languages but mostly written in Julia. This adds up to many thousands of lines of code, organised in hundreds of files.\n",
    "\n",
    "In this course, we will not require you to write files of Julia code."
   ]
  },
  {
   "cell_type": "markdown",
   "metadata": {},
   "source": [
    "### The Base package\n",
    "\n",
    "When you start a new notebook on JuliaBox, you have available to you the Base package. But often one wants to do things that are available only in extensions. They then have to be added to your JuliaBox session. We will cover that in Lesson 3, and use several of the extension packages in Lesson 3 and in Lesson 4."
   ]
  },
  {
   "cell_type": "markdown",
   "metadata": {},
   "source": [
    "[최상단으로](#순서)"
   ]
  },
  {
   "cell_type": "markdown",
   "metadata": {},
   "source": [
    "<h2>IJulia</h2>\n",
    "\n",
    "\n",
    "For those of you who have installed Julia on your own local computer, here's how to get interactive notebooks running\n",
    "\n",
    "Step 1: Start Julia, and go to the command line.\n",
    "\n",
    "Step 2: Install IJulia by typing and entering \"Pkg.add(\"IJulia\")\".\n",
    "\n",
    "Step 3: Activate IJulia by typing and entering \"using IJulia\".\n",
    "\n",
    "Step 4: Start up IJulia by typing and entering \"notebook()\". It opens in a browser (if necessary, starting up the browser).\n",
    "\n",
    "It can be a little unclear how to shut it down. I generally first close the browser window, then return to the Julia terminal and press Ctrl-C. The other way round also works. "
   ]
  },
  {
   "cell_type": "markdown",
   "metadata": {},
   "source": [
    "[최상단으로](#순서)"
   ]
  }
 ],
 "metadata": {
  "anaconda-cloud": {},
  "kernelspec": {
   "display_name": "Julia 0.5.0",
   "language": "julia",
   "name": "julia-0.5"
  },
  "language_info": {
   "file_extension": ".jl",
   "mimetype": "application/julia",
   "name": "julia",
   "version": "0.5.0"
  },
  "nav_menu": {},
  "toc": {
   "navigate_menu": true,
   "number_sections": true,
   "sideBar": true,
   "threshold": 6,
   "toc_cell": false,
   "toc_section_display": "block",
   "toc_window_display": false
  }
 },
 "nbformat": 4,
 "nbformat_minor": 0
}
