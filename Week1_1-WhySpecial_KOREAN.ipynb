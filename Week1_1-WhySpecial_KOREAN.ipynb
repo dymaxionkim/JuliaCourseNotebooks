{
 "cells": [
  {
   "cell_type": "code",
   "execution_count": 1,
   "metadata": {
    "collapsed": false
   },
   "outputs": [
    {
     "name": "stderr",
     "output_type": "stream",
     "text": [
      "WARNING: readall is deprecated, use readstring instead.\n",
      " in depwarn(::String, ::Symbol) at ./deprecated.jl:64\n",
      " in readall(::IOStream, ::Vararg{IOStream,N}) at ./deprecated.jl:30\n",
      " in include_string(::String, ::String) at ./loading.jl:441\n",
      " in execute_request(::ZMQ.Socket, ::IJulia.Msg) at /home/dong/.julia/v0.5/IJulia/src/execute_request.jl:169\n",
      " in eventloop(::ZMQ.Socket) at /home/dong/.julia/v0.5/IJulia/src/eventloop.jl:8\n",
      " in (::IJulia.##9#15)() at ./task.jl:360\n",
      "while loading In[1], in expression starting on line 3\n"
     ]
    },
    {
     "data": {
      "text/html": [
       "<link href='http://fonts.googleapis.com/css?family=Alegreya+Sans:100,300,400,500,700,800,900,100italic,300italic,400italic,500italic,700italic,800italic,900italic' rel='stylesheet' type='text/css'>\n",
       "<link href='http://fonts.googleapis.com/css?family=Arvo:400,700,400italic' rel='stylesheet' type='text/css'>\n",
       "<link href='http://fonts.googleapis.com/css?family=PT+Mono' rel='stylesheet' type='text/css'>\n",
       "<link href='http://fonts.googleapis.com/css?family=Shadows+Into+Light' rel='stylesheet' type='text/css'>\n",
       "<link href='http://fonts.googleapis.com/css?family=Philosopher:400,700,400italic,700italic' rel='stylesheet' type='text/css'>\n",
       "\n",
       "<style>\n",
       "\n",
       "@font-face {\n",
       "    font-family: \"Computer Modern\";\n",
       "    src: url('http://mirrors.ctan.org/fonts/cm-unicode/fonts/otf/cmunss.otf');\n",
       "}\n",
       "\n",
       "#notebook_panel { /* main background */\n",
       "    background: #ddd;\n",
       "    color: #000000;\n",
       "}\n",
       "\n",
       "\n",
       "\n",
       "/* Formatting for header cells */\n",
       ".text_cell_render h1 {\n",
       "    font-family: 'Philosopher', sans-serif;\n",
       "    font-weight: 400;\n",
       "    font-size: 2.2em;\n",
       "    line-height: 100%;\n",
       "    color: rgb(0, 80, 120);\n",
       "    margin-bottom: 0.1em;\n",
       "    margin-top: 0.1em;\n",
       "    display: block;\n",
       "}\t\n",
       ".text_cell_render h2 {\n",
       "    font-family: 'Philosopher', serif;\n",
       "    font-weight: 400;\n",
       "    font-size: 1.9em;\n",
       "    line-height: 100%;\n",
       "    color: rgb(200,100,0);\n",
       "    margin-bottom: 0.1em;\n",
       "    margin-top: 0.1em;\n",
       "    display: block;\n",
       "}\t\n",
       "\n",
       ".text_cell_render h3 {\n",
       "    font-family: 'Philosopher', serif;\n",
       "    margin-top:12px;\n",
       "    margin-bottom: 3px;\n",
       "    font-style: italic;\n",
       "    color: rgb(94,127,192);\n",
       "}\n",
       "\n",
       ".text_cell_render h4 {\n",
       "    font-family: 'Philosopher', serif;\n",
       "}\n",
       "\n",
       ".text_cell_render h5 {\n",
       "    font-family: 'Alegreya Sans', sans-serif;\n",
       "    font-weight: 300;\n",
       "    font-size: 16pt;\n",
       "    color: grey;\n",
       "    font-style: italic;\n",
       "    margin-bottom: .1em;\n",
       "    margin-top: 0.1em;\n",
       "    display: block;\n",
       "}\n",
       "\n",
       ".text_cell_render h6 {\n",
       "    font-family: 'PT Mono', sans-serif;\n",
       "    font-weight: 300;\n",
       "    font-size: 10pt;\n",
       "    color: grey;\n",
       "    margin-bottom: 1px;\n",
       "    margin-top: 1px;\n",
       "}\n",
       "\n",
       ".CodeMirror{\n",
       "        font-family: \"PT Mono\";\n",
       "        font-size: 100%;\n",
       "}\n",
       "\n",
       "</style>\n",
       "\n"
      ],
      "text/plain": [
       "HTML{String}(\"<link href='http://fonts.googleapis.com/css?family=Alegreya+Sans:100,300,400,500,700,800,900,100italic,300italic,400italic,500italic,700italic,800italic,900italic' rel='stylesheet' type='text/css'>\\n<link href='http://fonts.googleapis.com/css?family=Arvo:400,700,400italic' rel='stylesheet' type='text/css'>\\n<link href='http://fonts.googleapis.com/css?family=PT+Mono' rel='stylesheet' type='text/css'>\\n<link href='http://fonts.googleapis.com/css?family=Shadows+Into+Light' rel='stylesheet' type='text/css'>\\n<link href='http://fonts.googleapis.com/css?family=Philosopher:400,700,400italic,700italic' rel='stylesheet' type='text/css'>\\n\\n<style>\\n\\n@font-face {\\n    font-family: \\\"Computer Modern\\\";\\n    src: url('http://mirrors.ctan.org/fonts/cm-unicode/fonts/otf/cmunss.otf');\\n}\\n\\n#notebook_panel { /* main background */\\n    background: #ddd;\\n    color: #000000;\\n}\\n\\n\\n\\n/* Formatting for header cells */\\n.text_cell_render h1 {\\n    font-family: 'Philosopher', sans-serif;\\n    font-weight: 400;\\n    font-size: 2.2em;\\n    line-height: 100%;\\n    color: rgb(0, 80, 120);\\n    margin-bottom: 0.1em;\\n    margin-top: 0.1em;\\n    display: block;\\n}\\t\\n.text_cell_render h2 {\\n    font-family: 'Philosopher', serif;\\n    font-weight: 400;\\n    font-size: 1.9em;\\n    line-height: 100%;\\n    color: rgb(200,100,0);\\n    margin-bottom: 0.1em;\\n    margin-top: 0.1em;\\n    display: block;\\n}\\t\\n\\n.text_cell_render h3 {\\n    font-family: 'Philosopher', serif;\\n    margin-top:12px;\\n    margin-bottom: 3px;\\n    font-style: italic;\\n    color: rgb(94,127,192);\\n}\\n\\n.text_cell_render h4 {\\n    font-family: 'Philosopher', serif;\\n}\\n\\n.text_cell_render h5 {\\n    font-family: 'Alegreya Sans', sans-serif;\\n    font-weight: 300;\\n    font-size: 16pt;\\n    color: grey;\\n    font-style: italic;\\n    margin-bottom: .1em;\\n    margin-top: 0.1em;\\n    display: block;\\n}\\n\\n.text_cell_render h6 {\\n    font-family: 'PT Mono', sans-serif;\\n    font-weight: 300;\\n    font-size: 10pt;\\n    color: grey;\\n    margin-bottom: 1px;\\n    margin-top: 1px;\\n}\\n\\n.CodeMirror{\\n        font-family: \\\"PT Mono\\\";\\n        font-size: 100%;\\n}\\n\\n</style>\\n\\n\")"
      ]
     },
     "execution_count": 1,
     "metadata": {},
     "output_type": "execute_result"
    }
   ],
   "source": [
    "# Setting up a custom stylesheet in IJulia\n",
    "file = open(\"style.css\") # A .css file in the same folder as this notebook file\n",
    "styl = readall(file) # Read the file\n",
    "HTML(\"$styl\") # Output as HTML"
   ]
  },
  {
   "cell_type": "markdown",
   "metadata": {},
   "source": [
    "# 프로그래밍 랭귀지, 그리고 쥴리아가 특별한 이유\n"
   ]
  },
  {
   "cell_type": "markdown",
   "metadata": {},
   "source": [
    "<h2>순서</h2>\n",
    "\n",
    "- [결과물](#결과물)\n",
    "- [다른 프로그래밍 랭귀지와의 비교](#다른-프로그래밍-랭귀지와의-비교)\n",
    "- [왜 쥴리아는 배우기 쉬울까](#왜-쥴리아는-배우기-쉬울까)\n",
    "- [쥴리아의 몇가지 기술적 측면들](#쥴리아의-몇가지-기술적-측면들)"
   ]
  },
  {
   "cell_type": "markdown",
   "metadata": {},
   "source": [
    "<hr>\n",
    "<h2>결과물</h2>\n",
    "\n",
    "본 수업을 끝내면 다음과 같은 것들을 할 수 있다:\n",
    "\n",
    "- 쥴리아와 파이썬,매틀랩,C,포트란과의 차이점을 말할 수 있게 된다.\n",
    "- 왜 쥴리아가 배우기 쉬운지 말할 수 있게 된다.\n",
    "- 쥴리아의 몇가지 기술적 측면들을 열거할 수 있게 된다."
   ]
  },
  {
   "cell_type": "markdown",
   "metadata": {},
   "source": [
    "[최상위로](#순서)"
   ]
  },
  {
   "cell_type": "markdown",
   "metadata": {},
   "source": [
    "<hr>\n",
    "<h2>다른 프로그래밍 랭귀지와의 비교</h2>\n",
    "\n",
    "#### 쥴리아는 배우기가 쉽다 -- 하지만 파이썬이나 매틀랩 같은 다른 쉬운 언어들도 역시 쉽다.\n",
    "\n",
    "#### 쥴리아는 빠르다 -- 하지만 C나 포트란 같은 다른 언어들도 현저하게 빠르다 (결과물과 조건이 맞아들어갈 경우)\n",
    "\n",
    "#### 쥴리아는 자유 소프트웨어다 -- 하지만 파이썬,R,옥타브도 그렇다.\n",
    "\n",
    ".\n",
    "### 그러나 쥴리아는 위에 언급된 모든 특성들을 한꺼번에 다 가지고 있다 : 자유 소프트웨어이면서, 빠르고 또 배우기 쉽다.\n",
    "\n",
    "\n",
    "[최상위로](#순서)"
   ]
  },
  {
   "cell_type": "markdown",
   "metadata": {},
   "source": [
    "<hr>\n",
    "<h2>왜 쥴리아는 배우기 쉬울까</h2>\n",
    "\n",
    "기본적으로, 쥴리아 프로그램은 즉각적으로 타이핑해 넣어 결과를 볼 수 있기 때문에 배우기가 쉽다.  주요한 이유는 코드의 행 수를 줄일 수 있다는 점이다:\n",
    "\n",
    "***쥴리아에서는, 원하는 작업을 위해 겨우 몇 줄의 코드만 한 번 써주면 된다.***\n",
    "\n",
    "컴퓨터 프로그램은 작업을 수행하기 위해 작성된다.  이 일은 상당히 단순하게 이루어질 수 있다.  예를 들어, 관심있는 사항을 계산하거나, 또는 사람의 말을 텍스트로 변환해 주는 등의 좀 복잡한 일들까지 포함한다.\n",
    "\n",
    "쥴리아 프로그램은 짧게 작성되도록 의도되어 있다.  예를 들면, C 프로그램에서 파일을 오픈하고 그 내용을 읽어서 데이타를 메모리로 적재하고, 그 데이타를 특정한 방법으로 다른 포멧으로 변환하도록 하려면 쥴리아와 비교해서 상당히 더 긴 코드를 작성해야만 한다.\n",
    "\n",
    "이런 특성은 파이썬 및 매틀랩과 상당히 유사하다.\n",
    "\n",
    "\n",
    "## 실행 속도\n",
    "\n",
    "프로그램의 속도는 계측하기가 꽤 까다롭다.  기본적인 프로세서의 속도, 가용 메모리, 코프로세서 및 기타 멀티테스킹 트릭 등 영향을 주는 별개의 요소들이 많기 때문이다.\n",
    "\n",
    "그렇지만, 파이썬 또는 매틀랩이 많은 시간을 소요하는 작업(특히 수 밀리초 또는 수 초에 끝나는 짧은 작업 보다는, 수 분에서 수 시간의 시간이 소요되는 작업의 경우)이 있다고 할 때, 쥴리아에서는 대체로 훨씬 더 빠르다.  이것을 증명하는 몇가지 벤치마크 테스트 결과****가 있다.\n",
    "\n",
    "이런 특성은 C 및 포트란과 상당히 유사하다.  (아래의 쥴리아 *타입 시스템* 관련 부분도 참고 바람)\n",
    "\n",
    "\n",
    "****물론 파이썬 열성 지지자 중에, 이런 결과는 믿기 어렵고 왜곡되었다고 주장하는 사람도 있다.\n",
    "\n",
    "\n",
    "#### 느린 프로그램 언어에서도 빠르게 실행되도록 할 수 있다고 말할 수 있지만, 이것은 쥴리아에서도 마찬가지다.  본 교재에서는, 쥴리아의 타입 시스템에 일단 주목해서, 쥴리아에서 가장 빠르게 성능을 뽑아낼 수 있는 핵심 기법을 습득해 보자.  다만, 쥴리아의 실행속도를 극대화해서 뽑아낼 수 있는 주요한 기법들은 차후에 심화학습에서 다루기로 한다.\n",
    "\n"
   ]
  },
  {
   "cell_type": "markdown",
   "metadata": {},
   "source": [
    "[최상위로](#순서)"
   ]
  },
  {
   "cell_type": "markdown",
   "metadata": {},
   "source": [
    "<hr>\n",
    "<h2>쥴리아의 몇가지 기술적 측면들</h2>\n",
    "\n",
    "### 쥴리아는 강한 타입 및 동적 타입이다.\n",
    "\n",
    "이런 조합은 쥴리아만의 독특한 부분이다.  파이썬이나 매틀랩 같은 동적 언어는, 배우기 쉽고 작성하기 편하며 코드 길이를 줄이는데 주안점을 두고 있다.  게다가, 이런 언어들은 굉장히 단순한 타입 시스템만 가지도록 되어 있다.  이 때문에 프로세서의 능력을 최적화해서 뽑아내는데는 상당히 불리하다.\n",
    "\n",
    "반면 쥴리아에서는 강한, 그리고 매우 세분화된 타입 시스템을 허용하고 있기 때문에, 거의 C 만큼 빠르게 실행 가능하다.\n",
    "\n",
    "6강에서 쥴리아의 타입 시스템을 자세하게 배우게 될 것이다. 그리고 쥴리아의 동적 타입 부분은 3강에서 곧바로 보게 될 것이다.\n",
    "\n",
    "\n",
    "### 쥴리아 펑션(함수)은  멀티플 디스패치를 지원한다.\n",
    "\n",
    "이것은 타입 시스템과 연관된다.  8강, 9강에서 펑션에 대해서 배우게 될 것이다.\n",
    "\n",
    "\n",
    "### 쥴리아는 병렬 프로그래밍을 지원한다.  동시에 거대한 데이타셋에 적합한 데이타 모델도 지원된다.\n",
    "\n",
    "이 모든 것들은, 쥴리아가 분산된 네트워크 컴퓨팅 및 데이타 매니지먼트 환경에서 적합하다는 특성을 준다.  그리고 스케일을 키우기가 굉장히 용이하다는 것이다.\n",
    "\n",
    "\n",
    "### 쥴리아는 다른 언어와 매우 쉽게 인터페이스할 수 있다.\n",
    "\n",
    "이것은 파이썬 코드를 거의 그대로 사용하면서 인클루드 시킬 수 있다는 의미이고, 또 반대의 경우도 용이하다는 것이다.  그리고 C 코드와의 링킹도 매우 강력하게 지원하고, R과의 통합 역시 매우 자연스럽다는 것이다.  이외의 다른 언어와의 인터페이스는 개발중에 있다.\n"
   ]
  },
  {
   "cell_type": "markdown",
   "metadata": {},
   "source": [
    "[최상위로](#순서)"
   ]
  },
  {
   "cell_type": "code",
   "execution_count": null,
   "metadata": {
    "collapsed": true
   },
   "outputs": [],
   "source": []
  }
 ],
 "metadata": {
  "anaconda-cloud": {},
  "kernelspec": {
   "display_name": "Julia 0.5.0",
   "language": "julia",
   "name": "julia-0.5"
  },
  "language_info": {
   "file_extension": ".jl",
   "mimetype": "application/julia",
   "name": "julia",
   "version": "0.5.0"
  },
  "nav_menu": {},
  "toc": {
   "navigate_menu": true,
   "number_sections": true,
   "sideBar": true,
   "threshold": 6,
   "toc_cell": false,
   "toc_section_display": "block",
   "toc_window_display": false
  }
 },
 "nbformat": 4,
 "nbformat_minor": 0
}
